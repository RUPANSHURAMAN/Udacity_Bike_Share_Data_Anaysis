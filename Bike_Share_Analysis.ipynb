{
 "cells": [
  {
   "cell_type": "markdown",
   "metadata": {},
   "source": [
    "# 2016 US Bike Share Activity Snapshot\n",
    "\n",
    "## Table of Contents\n",
    "- [Introduction](#intro)\n",
    "- [Posing Questions](#pose_questions)\n",
    "- [Data Collection and Wrangling](#wrangling)\n",
    "  - [Condensing the Trip Data](#condensing)\n",
    "- [Exploratory Data Analysis](#eda)\n",
    "  - [Statistics](#statistics)\n",
    "  - [Visualizations](#visualizations)\n",
    "- [Performing Your Own Analysis](#eda_continued)\n",
    "- [Conclusions](#conclusions)\n",
    "\n",
    "<a id='intro'></a>\n",
    "## Introduction\n",
    "\n",
    "Over the past decade, bicycle-sharing systems have been growing in number and popularity in cities across the world. Bicycle-sharing systems allow users to rent bicycles for short trips, typically 30 minutes or less. Thanks to the rise in information technologies, it is easy for a user of the system to access a dock within the system to unlock or return bicycles. These technologies also provide a wealth of data that can be used to explore how these bike-sharing systems are used."
   ]
  },
  {
   "cell_type": "markdown",
   "metadata": {},
   "source": [
    "<a id='pose_questions'></a>\n",
    "## Posing Questions\n",
    "\n",
    "**Question 1**: Write at least two questions related to bike sharing that you think could be answered by data.\n",
    "\n",
    "**Answer**:\n",
    "- What are the most popular bike sharing systems?\n",
    "- What are the least busy stations?\n",
    "- What is the availability of bikes at a particular bike sharing station?\n",
    "- What are the minimum and maximum time allowed to rent bikes?\n",
    "- What is the gender ratio at a particular station on a given day?\n"
   ]
  },
  {
   "cell_type": "markdown",
   "metadata": {},
   "source": [
    "<a id='wrangling'></a>\n",
    "## Data Collection and Wrangling\n",
    "\n",
    "**Question 2**: It's a good idea to start off by looking at one entry from each of the cities we're going to analyze."
   ]
  },
  {
   "cell_type": "code",
   "execution_count": 1,
   "metadata": {},
   "outputs": [],
   "source": [
    "## import all necessary packages and functions.\n",
    "import csv # read and write csv files\n",
    "from datetime import datetime # operations to parse dates\n",
    "from pprint import pprint # use to print data structures like dictionaries in\n",
    "                          # a nicer way than the base print function."
   ]
  },
  {
   "cell_type": "code",
   "execution_count": 2,
   "metadata": {
    "scrolled": false
   },
   "outputs": [
    {
     "name": "stdout",
     "output_type": "stream",
     "text": [
      "\n",
      "City: NYC\n",
      "OrderedDict([('tripduration', '839'),\n",
      "             ('starttime', '1/1/2016 00:09:55'),\n",
      "             ('stoptime', '1/1/2016 00:23:54'),\n",
      "             ('start station id', '532'),\n",
      "             ('start station name', 'S 5 Pl & S 4 St'),\n",
      "             ('start station latitude', '40.710451'),\n",
      "             ('start station longitude', '-73.960876'),\n",
      "             ('end station id', '401'),\n",
      "             ('end station name', 'Allen St & Rivington St'),\n",
      "             ('end station latitude', '40.72019576'),\n",
      "             ('end station longitude', '-73.98997825'),\n",
      "             ('bikeid', '17109'),\n",
      "             ('usertype', 'Customer'),\n",
      "             ('birth year', ''),\n",
      "             ('gender', '0')])\n",
      "\n",
      "City: Chicago\n",
      "OrderedDict([('trip_id', '9080545'),\n",
      "             ('starttime', '3/31/2016 23:30'),\n",
      "             ('stoptime', '3/31/2016 23:46'),\n",
      "             ('bikeid', '2295'),\n",
      "             ('tripduration', '926'),\n",
      "             ('from_station_id', '156'),\n",
      "             ('from_station_name', 'Clark St & Wellington Ave'),\n",
      "             ('to_station_id', '166'),\n",
      "             ('to_station_name', 'Ashland Ave & Wrightwood Ave'),\n",
      "             ('usertype', 'Subscriber'),\n",
      "             ('gender', 'Male'),\n",
      "             ('birthyear', '1990')])\n",
      "\n",
      "City: Washington\n",
      "OrderedDict([('Duration (ms)', '427387'),\n",
      "             ('Start date', '3/31/2016 22:57'),\n",
      "             ('End date', '3/31/2016 23:04'),\n",
      "             ('Start station number', '31602'),\n",
      "             ('Start station', 'Park Rd & Holmead Pl NW'),\n",
      "             ('End station number', '31207'),\n",
      "             ('End station', 'Georgia Ave and Fairmont St NW'),\n",
      "             ('Bike number', 'W20842'),\n",
      "             ('Member Type', 'Registered')])\n"
     ]
    }
   ],
   "source": [
    "def print_first_point(filename):\n",
    "    \"\"\"\n",
    "    This function prints and returns the first data point (second row) from\n",
    "    a csv file that includes a header row.\n",
    "    \"\"\"\n",
    "    # print city name for reference\n",
    "    city = filename.split('-')[0].split('/')[-1]\n",
    "    print('\\nCity: {}'.format(city))\n",
    "\n",
    "    with open(filename, 'r') as f_in:\n",
    "        # Use the csv library to set up a DictReader object.\n",
    "        trip_reader = csv.DictReader(f_in)\n",
    "\n",
    "        # read the first trip from the data file and store it in first_trip.\n",
    "        first_trip = trip_reader.__next__()\n",
    "\n",
    "        # pprint library to print the first trip.\n",
    "        pprint(first_trip)\n",
    "\n",
    "    # return a tuple containing city name and first trip\n",
    "    return (city, first_trip)\n",
    "\n",
    "\n",
    "# list of files for each city\n",
    "data_files = ['./data/NYC-CitiBike-2016.csv',\n",
    "              './data/Chicago-Divvy-2016.csv',\n",
    "              './data/Washington-CapitalBikeshare-2016.csv', ]\n",
    "\n",
    "# print the first trip from each file, store in dictionary\n",
    "example_trips = {}\n",
    "for data_file in data_files:\n",
    "    city, first_trip = print_first_point(data_file)\n",
    "    example_trips[city] = first_trip\n"
   ]
  },
  {
   "cell_type": "markdown",
   "metadata": {},
   "source": [
    "<a id='condensing'></a>\n",
    "### Condensing the Trip Data\n",
    "\n",
    "**Question 3a**: Complete the helper functions in the code cells below to make all three CSV data files homogeneous."
   ]
  },
  {
   "cell_type": "code",
   "execution_count": 3,
   "metadata": {},
   "outputs": [],
   "source": [
    "def duration_in_mins(datum, city):\n",
    "    \"\"\"\n",
    "    Takes as input a dictionary containing info about a single trip (datum) and\n",
    "    its origin city (city) and returns the trip duration in units of minutes.\n",
    "    \"\"\"\n",
    "    # if city is Washington then convert duration from millis to minutes\n",
    "    if city == 'Washington':\n",
    "        duration = int(datum['Duration (ms)'])\n",
    "        return duration/(60 * 1000)\n",
    "    # else for Chicago and NYC convert duration from seconds to minutes\n",
    "    else:\n",
    "        duration = int(datum['tripduration'])\n",
    "        return duration/60\n",
    "\n",
    "# There should be no output if all of the assertions pass. The \n",
    "# `example_trips` dictionary was obtained from when you printed\n",
    "# the first trip from each of the original data files.\n",
    "tests = {'NYC': 13.9833,\n",
    "         'Chicago': 15.4333,\n",
    "         'Washington': 7.1231}\n",
    "\n",
    "for city in tests:\n",
    "    assert abs(duration_in_mins(example_trips[city], city) - tests[city]) < .001"
   ]
  },
  {
   "cell_type": "code",
   "execution_count": 4,
   "metadata": {},
   "outputs": [],
   "source": [
    "def time_of_trip(datum, city):\n",
    "    \"\"\"\n",
    "    Takes as input a dictionary containing info about a single trip (datum) and\n",
    "    its origin city (city) and returns the month, hour, and day of the week in\n",
    "    which the trip was made.    \n",
    "    \"\"\"\n",
    "    # if NYC use the format month/date/year hour:minute:sec\n",
    "    if city == 'NYC':\n",
    "        date = datetime.strptime(datum['starttime'], \"%m/%d/%Y %H:%M:%S\")\n",
    "    # if Chicago use the format month/date/year hour:minute\n",
    "    elif city == 'Chicago':\n",
    "        date = datetime.strptime(datum['starttime'], \"%m/%d/%Y %H:%M\")\n",
    "    # if Washington use the format month/date/year hour:minute\n",
    "    else:\n",
    "        date = datetime.strptime(datum['Start date'], \"%m/%d/%Y %H:%M\")\n",
    "    \n",
    "    # return tuple contating month, hour, day of week\n",
    "    return (date.month, date.hour, str(date.strftime(\"%A\")))\n",
    "\n",
    "\n",
    "# There should be no output if all of the assertions pass.\n",
    "# The `example_trips` dictionary was obtained from when\n",
    "# you printed the first trip from each of the original data files.\n",
    "tests = {'NYC': (1, 0, 'Friday'),\n",
    "         'Chicago': (3, 23, 'Thursday'),\n",
    "         'Washington': (3, 22, 'Thursday')}\n",
    "\n",
    "for city in tests:\n",
    "    assert time_of_trip(example_trips[city], city) == tests[city]"
   ]
  },
  {
   "cell_type": "code",
   "execution_count": 5,
   "metadata": {},
   "outputs": [],
   "source": [
    "def type_of_user(datum, city):\n",
    "    \"\"\"\n",
    "    Takes as input a dictionary containing info about a single trip (datum) and\n",
    "    its origin city (city) and returns the user type that made the trip.\n",
    "    \"\"\"\n",
    "    # if city is Washington\n",
    "    if city == 'Washington':\n",
    "        # use 'Member Type' for Washington data to get user type\n",
    "        user_type = datum['Member Type']\n",
    "        \n",
    "        # if user type is 'Registered' return 'Subscriber' else 'Customer'\n",
    "        if user_type == 'Registered':\n",
    "            return 'Subscriber'\n",
    "        else:\n",
    "            return 'Customer'\n",
    "    # for NYC and Chicago return user type as is from datam\n",
    "    else:\n",
    "        return datum['usertype']\n",
    "\n",
    "\n",
    "# There should be no output if all of the assertions pass. \n",
    "# The `example_trips` dictionary was obtained from when\n",
    "# you printed the first trip from each of the original data files.\n",
    "tests = {'NYC': 'Customer',\n",
    "         'Chicago': 'Subscriber',\n",
    "         'Washington': 'Subscriber'}\n",
    "\n",
    "for city in tests:\n",
    "    assert type_of_user(example_trips[city], city) == tests[city]"
   ]
  },
  {
   "cell_type": "markdown",
   "metadata": {},
   "source": [
    "**Question 3b**: Use the helper functions you wrote above to create a condensed data file for each city consisting only of the data fields duration, month, hour, day of week, user type."
   ]
  },
  {
   "cell_type": "code",
   "execution_count": 6,
   "metadata": {},
   "outputs": [],
   "source": [
    "def condense_data(in_file, out_file, city):\n",
    "    \"\"\"\n",
    "    This function takes the full data from the specified input file\n",
    "    and writes the condensed data to a specified output file. The city\n",
    "    argument determines how the input file will be parsed.\n",
    "    \"\"\"\n",
    "    with open(out_file, 'w') as f_out, open(in_file, 'r') as f_in:\n",
    "        # set up csv DictWriter object - writer requires column names for the\n",
    "        # first row as the \"fieldnames\" argument\n",
    "        out_colnames = ['duration', 'month', 'hour', 'day_of_week', 'user_type']\n",
    "        trip_writer = csv.DictWriter(f_out, fieldnames=out_colnames)\n",
    "        trip_writer.writeheader()\n",
    "\n",
    "        # set up csv DictReader object\n",
    "        trip_reader = csv.DictReader(f_in)\n",
    "\n",
    "        # process each row in trip_reader\n",
    "        for row in trip_reader:\n",
    "            # set up a dictionary to hold the values for the cleaned and trimmed\n",
    "            # data point\n",
    "            new_point = {}\n",
    "\n",
    "            # use helper function duration_in_mins to get duration in minutes\n",
    "            new_point['duration'] = duration_in_mins(row, city)\n",
    "            \n",
    "            # use helper function time_of_trip to get the month, hour, and day of week\n",
    "            new_point['month'], new_point['hour'], new_point['day_of_week'] = time_of_trip(row, city)\n",
    "            \n",
    "            # use helper function time_of_trip to get the user type\n",
    "            new_point['user_type'] = type_of_user(row, city)\n",
    "\n",
    "            # write the processed information to the output file.\n",
    "            trip_writer.writerow(new_point)"
   ]
  },
  {
   "cell_type": "code",
   "execution_count": 7,
   "metadata": {},
   "outputs": [
    {
     "name": "stdout",
     "output_type": "stream",
     "text": [
      "\n",
      "City: Washington\n",
      "OrderedDict([('duration', '7.123116666666666'),\n",
      "             ('month', '3'),\n",
      "             ('hour', '22'),\n",
      "             ('day_of_week', 'Thursday'),\n",
      "             ('user_type', 'Subscriber')])\n",
      "\n",
      "City: Chicago\n",
      "OrderedDict([('duration', '15.433333333333334'),\n",
      "             ('month', '3'),\n",
      "             ('hour', '23'),\n",
      "             ('day_of_week', 'Thursday'),\n",
      "             ('user_type', 'Subscriber')])\n",
      "\n",
      "City: NYC\n",
      "OrderedDict([('duration', '13.983333333333333'),\n",
      "             ('month', '1'),\n",
      "             ('hour', '0'),\n",
      "             ('day_of_week', 'Friday'),\n",
      "             ('user_type', 'Customer')])\n"
     ]
    }
   ],
   "source": [
    "# Run this cell to check your work\n",
    "city_info = {'Washington': {'in_file': './data/Washington-CapitalBikeshare-2016.csv',\n",
    "                            'out_file': './data/Washington-2016-Summary.csv'},\n",
    "             'Chicago': {'in_file': './data/Chicago-Divvy-2016.csv',\n",
    "                         'out_file': './data/Chicago-2016-Summary.csv'},\n",
    "             'NYC': {'in_file': './data/NYC-CitiBike-2016.csv',\n",
    "                     'out_file': './data/NYC-2016-Summary.csv'}}\n",
    "\n",
    "for city, filenames in city_info.items():\n",
    "    condense_data(filenames['in_file'], filenames['out_file'], city)\n",
    "    print_first_point(filenames['out_file'])"
   ]
  },
  {
   "cell_type": "markdown",
   "metadata": {},
   "source": [
    "<a id='eda'></a>\n",
    "## Exploratory Data Analysis\n",
    "\n",
    "<a id='statistics'></a>\n",
    "### Statistics\n",
    "\n",
    "**Question 4a**: Which city has the highest number of trips? Which city has the highest proportion of trips made by subscribers? Which city has the highest proportion of trips made by short-term customers?\n",
    "\n",
    "**Answer**: \n",
    "- **NYC** has the highest number of trips.<br>\n",
    "- **NYC** has the highest proportion of trips made by Subscribers.<br>\n",
    "- **Chicago** has the highest proportion of trips made by short-term Customers."
   ]
  },
  {
   "cell_type": "code",
   "execution_count": 8,
   "metadata": {},
   "outputs": [],
   "source": [
    "def number_of_trips(filename):\n",
    "    \"\"\"\n",
    "    This function reads in a file with trip data and reports the number of\n",
    "    trips made by subscribers, customers, and total overall.\n",
    "    \"\"\"\n",
    "    with open(filename, 'r') as f_in:\n",
    "        # set up csv reader object\n",
    "        reader = csv.DictReader(f_in)\n",
    "        \n",
    "        # initialize count variables\n",
    "        n_subscribers = 0\n",
    "        n_customers = 0\n",
    "        \n",
    "        # tally up ride types\n",
    "        for row in reader:\n",
    "            if row['user_type'] == 'Subscriber':\n",
    "                n_subscribers += 1\n",
    "            else:\n",
    "                n_customers += 1\n",
    "        \n",
    "        # compute total number of rides\n",
    "        n_total = n_subscribers + n_customers\n",
    "        \n",
    "        # return tallies as a tuple\n",
    "        return(n_subscribers, n_customers, n_total)"
   ]
  },
  {
   "cell_type": "code",
   "execution_count": 9,
   "metadata": {
    "scrolled": true
   },
   "outputs": [
    {
     "name": "stdout",
     "output_type": "stream",
     "text": [
      "./data/Chicago-2016-Summary.csv\n",
      "Number of Subscriber trips are 54982 and the proportion to total rides is 0.7622520136973008\n",
      "Number of Customer trips are 17149 and the proportion to total rides is 0.23774798630269925\n",
      "Total rides made are 72131.\n",
      "\n",
      "./data/NYC-2016-Summary.csv\n",
      "Number of Subscriber trips are 245896 and the proportion to total rides is 0.8883590199351151\n",
      "Number of Customer trips are 30902 and the proportion to total rides is 0.11164098006488486\n",
      "Total rides made are 276798.\n",
      "\n",
      "./data/Washington-2016-Summary.csv\n",
      "Number of Subscriber trips are 51753 and the proportion to total rides is 0.7802822422579381\n",
      "Number of Customer trips are 14573 and the proportion to total rides is 0.21971775774206193\n",
      "Total rides made are 66326.\n",
      "\n"
     ]
    }
   ],
   "source": [
    "## Modify this and the previous cell to answer Question 4a. Remember to run ##\n",
    "## the function on the cleaned data files you created from Question 3.      ##\n",
    "\n",
    "file_paths = ['./data/Chicago-2016-Summary.csv',\n",
    "              './data/NYC-2016-Summary.csv', './data/Washington-2016-Summary.csv']\n",
    "\n",
    "for file_path in file_paths:\n",
    "    n_subscribers, n_customers, n_total = number_of_trips(file_path)\n",
    "    print(file_path)\n",
    "    print(\"Number of Subscriber trips are {} and the proportion to total rides is {}\".format(n_subscribers, n_subscribers/n_total))\n",
    "    print(\"Number of Customer trips are {} and the proportion to total rides is {}\".format(n_customers, n_customers/n_total))\n",
    "    print(\"Total rides made are {}.\\n\".format(n_total))"
   ]
  },
  {
   "cell_type": "markdown",
   "metadata": {},
   "source": [
    "**Question 4b**: Bike-share systems are designed for riders to take short trips. Most of the time, users are allowed to take trips of 30 minutes or less with no additional charges, with overage charges made for trips of longer than that duration. What is the average trip length for each city? What proportion of rides made in each city are longer than 30 minutes?\n",
    "\n",
    "**Answer**:\n",
    "- **Chicago**<br>\n",
    "Average trip length: 16.56 minutes<br>\n",
    "Proportion of number trip duration(greater than 30): 0.0833 or 8.33%<br>\n",
    "\n",
    "- **NYC**<br>\n",
    "Average trip length: 15.81 minutes<br>\n",
    "Proportion of number trip duration(greater than 30): 0.073 or 7.3%<br>\n",
    "\n",
    "- **Washington**<br>\n",
    "Average trip length: 18.93 minutes<br>\n",
    "Proportion of number trip duration(greater than 30): 0.1083 or 10.83%"
   ]
  },
  {
   "cell_type": "code",
   "execution_count": 10,
   "metadata": {
    "scrolled": true
   },
   "outputs": [],
   "source": [
    "def average_of_trip_duration(filename):\n",
    "    \"\"\"\n",
    "    This function reads in a file with trip data and reports the average of\n",
    "    total trip duration and proportion of the number of trip duration(greater \n",
    "    than 30) to the total number of trips made.\n",
    "    \"\"\"\n",
    "    with open(filename, 'r') as f_in:\n",
    "        # set up csv reader object\n",
    "        reader = csv.DictReader(f_in)\n",
    "\n",
    "        # initialize count variables\n",
    "        sum_duration = 0\n",
    "        n_members = 0\n",
    "        n_trips_greater_than_30 = 0\n",
    "\n",
    "        # process all the rows of reader object\n",
    "        for row in reader:\n",
    "            # convert string duration to float\n",
    "            duration = float(row['duration'])\n",
    "\n",
    "            # count number of trip duration greater than 30\n",
    "            if duration > 30:\n",
    "                n_trips_greater_than_30 += 1\n",
    "\n",
    "            # sum of total duration\n",
    "            sum_duration += duration\n",
    "\n",
    "            # total number of trips made\n",
    "            n_members += 1\n",
    "\n",
    "        # return average and proportion as a tuple\n",
    "        return (sum_duration/n_members, n_trips_greater_than_30/n_members)"
   ]
  },
  {
   "cell_type": "code",
   "execution_count": 11,
   "metadata": {},
   "outputs": [
    {
     "name": "stdout",
     "output_type": "stream",
     "text": [
      "./data/Chicago-2016-Summary.csv\n",
      "Average trip length: 16.563629368787335 minutes\n",
      "Proportion of number trip duration(greater than 30): 0.08332062497400562\n",
      "\n",
      "./data/NYC-2016-Summary.csv\n",
      "Average trip length: 15.81259299802294 minutes\n",
      "Proportion of number trip duration(greater than 30): 0.07302437156337835\n",
      "\n",
      "./data/Washington-2016-Summary.csv\n",
      "Average trip length: 18.93287355913721 minutes\n",
      "Proportion of number trip duration(greater than 30): 0.10838886711093688\n",
      "\n"
     ]
    }
   ],
   "source": [
    "for file_path in file_paths:\n",
    "    average, proportion = average_of_trip_duration(file_path)\n",
    "    print(file_path)\n",
    "    print(\"Average trip length: {} minutes\".format(average))\n",
    "    print(\"Proportion of number trip duration(greater than 30): {}\\n\".format(proportion))"
   ]
  },
  {
   "cell_type": "markdown",
   "metadata": {},
   "source": [
    "**Question 4c**: Dig deeper into the question of trip duration based on ridership. Choose one city. Within that city, which type of user takes longer rides on average: Subscribers or Customers?\n",
    "\n",
    "**Answer**: \n",
    "- **NYC**<br>\n",
    "Average Subscriber Trip Duration: 13.680790523907177 minutes<br>\n",
    "Average Customer Trip Duration: 32.77595139473187 minutes<br>\n",
    "\n",
    "Clearly, Customers takes longer rides on average than Subscribers in NYC."
   ]
  },
  {
   "cell_type": "code",
   "execution_count": 12,
   "metadata": {},
   "outputs": [],
   "source": [
    "def trip_duration(filename):\n",
    "    \"\"\"\n",
    "    This function reads in a file with trip data and reports the average of\n",
    "    trip duration made by Subscribers and Customers.\n",
    "    \"\"\"\n",
    "    with open(filename, 'r') as f_in:\n",
    "        # set up csv reader object\n",
    "        reader = csv.DictReader(f_in)\n",
    "\n",
    "        # initialize count variables\n",
    "        n_subscribers = 0\n",
    "        n_customers = 0\n",
    "        sum_subscribers_duration = 0\n",
    "        sum_customers_duration = 0\n",
    "\n",
    "        # tally up ride types and sum the duration of subscribers and customers\n",
    "        for row in reader:\n",
    "            if row['user_type'] == 'Subscriber':\n",
    "                n_subscribers += 1\n",
    "                sum_subscribers_duration += float(row['duration'])\n",
    "            else:\n",
    "                n_customers += 1\n",
    "                sum_customers_duration += float(row['duration'])\n",
    "\n",
    "        # return averages as a tuple\n",
    "        return (sum_subscribers_duration/n_subscribers, sum_customers_duration/n_customers)"
   ]
  },
  {
   "cell_type": "code",
   "execution_count": 13,
   "metadata": {},
   "outputs": [
    {
     "name": "stdout",
     "output_type": "stream",
     "text": [
      "./data/NYC-2016-Summary.csv\n",
      "Average Subscriber Trip Duration: 13.680790523907177 minutes\n",
      "Average Customer Trip Duration: 32.77595139473187 minutes\n",
      "\n"
     ]
    }
   ],
   "source": [
    "average, proportion = trip_duration('./data/NYC-2016-Summary.csv')\n",
    "print('./data/NYC-2016-Summary.csv')\n",
    "print(\"Average Subscriber Trip Duration: {} minutes\".format(average))\n",
    "print(\"Average Customer Trip Duration: {} minutes\\n\".format(proportion))"
   ]
  },
  {
   "cell_type": "markdown",
   "metadata": {},
   "source": [
    "<a id='visualizations'></a>\n",
    "### Visualizations\n",
    "\n",
    "**Question 5**: Use the parameters of the `.hist()` function to plot the distribution of trip times for the Subscribers in your selected city. Do the same thing for only the Customers. Add limits to the plots so that only trips of duration less than 75 minutes are plotted. As a bonus, set the plots up so that bars are in five-minute wide intervals. For each group, where is the peak of each distribution? How would you describe the shape of each distribution?\n",
    "\n",
    "**Answer**: \n",
    "- **NYC**\n",
    "- **Subscribers**<br>\n",
    "The peak is at **5-10**. The shape of this graph is **positively skewed**.<br>\n",
    "\n",
    "- **Customers**<br>\n",
    "The peak is at **20-25**. The shape of this graph is **positively skewed**.<br>"
   ]
  },
  {
   "cell_type": "code",
   "execution_count": 14,
   "metadata": {},
   "outputs": [],
   "source": [
    "def plot_time_duration(filename, user_type):\n",
    "    \"\"\"\n",
    "    This function reads in a file with trip data and user type and\n",
    "    plots a histogram of the trip of duration made by the user type.\n",
    "    \"\"\"\n",
    "    # extract city name from filename\n",
    "    city = filename.split('-')[0].split('/')[-1]\n",
    "    \n",
    "    # load library\n",
    "    import matplotlib.pyplot as plt\n",
    "\n",
    "    # this line shows plots inline\n",
    "    %matplotlib inline \n",
    "\n",
    "    with open(filename, 'r') as f_in:\n",
    "        # set up csv reader\n",
    "        trip_reader = csv.DictReader(f_in)\n",
    "\n",
    "        # set an empty list for data\n",
    "        data = list()\n",
    "        \n",
    "        # append all trip duration made by the user type in data list\n",
    "        for row in trip_reader:\n",
    "            if row['user_type'] == user_type:\n",
    "                data.append(float(row['duration']))\n",
    "\n",
    "    # use red color line for Customers and blue color line for Subscribers\n",
    "    if user_type == 'Customer':\n",
    "        color = 'r'\n",
    "    else:\n",
    "        color = 'b'\n",
    "    \n",
    "    # set the properties of histogram and plot it\n",
    "    plt.hist(data, bins=15, range=(0, 75), color=color)\n",
    "    plt.title(\"Trip of duration for {}'s {}\".format(city, user_type))\n",
    "    plt.xlabel('Duration (m)')\n",
    "    plt.ylabel('Frequency')\n",
    "    plt.show()"
   ]
  },
  {
   "cell_type": "code",
   "execution_count": 15,
   "metadata": {},
   "outputs": [
    {
     "data": {
      "image/png": "[encoded data removed]",
      "text/plain": [
       "<Figure size 432x288 with 1 Axes>"
      ]
     },
     "metadata": {},
     "output_type": "display_data"
    }
   ],
   "source": [
    "# Run this cell to plot histogram for Subscribers of NYC\n",
    "plot_time_duration('./data/NYC-2016-Summary.csv', 'Subscriber')"
   ]
  },
  {
   "cell_type": "code",
   "execution_count": 16,
   "metadata": {},
   "outputs": [
    {
     "data": {
      "image/png": "[encoded data removed]",
      "text/plain": [
       "<Figure size 432x288 with 1 Axes>"
      ]
     },
     "metadata": {},
     "output_type": "display_data"
    }
   ],
   "source": [
    "# Run this cell to plot histogram for Customers of NYC\n",
    "plot_time_duration('./data/NYC-2016-Summary.csv', 'Customer')"
   ]
  },
  {
   "cell_type": "markdown",
   "metadata": {
    "collapsed": true
   },
   "source": [
    "<a id='eda_continued'></a>\n",
    "## Performing Your Own Analysis\n",
    "\n",
    "**Question 6**: Continue the investigation by exploring another question that could be answered by the data available. Document the question you want to explore below. Your investigation should involve at least two variables and should compare at least two groups. You should also use at least one visualization as part of your explorations.\n",
    "\n",
    "**Posed Question: **During what time of day is the system used the most? Is there a difference in usage patterns for Subscribers and Customers?<br>\n",
    "**Answer**:\n",
    "- **Chicago**:<br>\n",
    "The system is used the most at 5 PM(17:00 hr) by Subscribers and 2 PM(14:00 hr) by Customers.\n",
    "\n",
    "- **NYC**:<br>\n",
    "The system is used the most at 5 PM(17:00 hr) by Subscribers and 3 PM(15:00 hr) by Customers.\n",
    "\n",
    "- **Washington**:<br>\n",
    "The system is used the most at 5 PM(17:00 hr) by Subscribers and 2 PM(14:00 hr) by Customers.\n",
    "\n",
    "Yes, there are **two differences** in usage pattern of subscribers and customers:\n",
    "1. There are **two peaks of usage system (one at morning and other at evening) for subscribers** and on the other hand, there is **a peak in the usage of system (in evening) for customers**.\n",
    "2. The bike share system is **used more frequently by subscribers than by customers**."
   ]
  },
  {
   "cell_type": "code",
   "execution_count": 17,
   "metadata": {
    "scrolled": false
   },
   "outputs": [
    {
     "data": {
      "image/png": "[encoded data removed]",
      "text/plain": [
       "<Figure size 432x288 with 1 Axes>"
      ]
     },
     "metadata": {},
     "output_type": "display_data"
    },
    {
     "data": {
      "image/png": "[encoded data removed]",
      "text/plain": [
       "<Figure size 432x288 with 1 Axes>"
      ]
     },
     "metadata": {},
     "output_type": "display_data"
    },
    {
     "data": {
      "image/png": "[encoded data removed]",
      "text/plain": [
       "<Figure size 432x288 with 1 Axes>"
      ]
     },
     "metadata": {},
     "output_type": "display_data"
    }
   ],
   "source": [
    "def plot_time_of_day(filename):\n",
    "    \"\"\"\n",
    "    This function reads in a file with trip data and plots a line \n",
    "    graph of each hour of day frequencies of the trip was made for \n",
    "    Subscribers and Customers.\n",
    "    \"\"\"\n",
    "    # extract city name from filename\n",
    "    city = filename.split('-')[0].split('/')[-1]\n",
    "    \n",
    "    # load library\n",
    "    import matplotlib.pyplot as plt\n",
    "\n",
    "    # this line shows plots inline\n",
    "    %matplotlib inline\n",
    "\n",
    "    with open(filename, 'r') as f_in:\n",
    "        # set up csv reader\n",
    "        trip_reader = csv.DictReader(f_in)\n",
    "\n",
    "        # set and empty list for subscriber and customer\n",
    "        subscriber_data = list()\n",
    "        customer_data = list()\n",
    "\n",
    "        # initialize frequency of hours of day to zero for Subscribers and Customers\n",
    "        for i in range(24):\n",
    "            subscriber_data.append(0)\n",
    "            customer_data.append(0)\n",
    "\n",
    "        # tally up the trip made per hour\n",
    "        for row in trip_reader:\n",
    "            # convert got hour string to int\n",
    "            hour = int(row['hour'])\n",
    "            \n",
    "            # tally up the frequency of rides made per hour according to subscriber and customer \n",
    "            if row['user_type'] == 'Subscriber':\n",
    "                subscriber_data[hour] = subscriber_data[hour] + 1\n",
    "            else:\n",
    "                customer_data[hour] = customer_data[hour] + 1\n",
    "\n",
    "    # set legend properties for Subscriber\n",
    "    blue_circle = plt.Line2D([], [], color='blue', marker='o',\n",
    "                                  markersize=5, label='Subscriber')\n",
    "    \n",
    "    # set legend properties for Customer\n",
    "    red_diamond = plt.Line2D([], [], color='red', marker='d',\n",
    "                                  markersize=5, label='Customer')\n",
    "    \n",
    "    #plot graph with red line and diamond markers for Customer\n",
    "    plt.plot(range(24), customer_data, color = 'r', marker = 'd')\n",
    "    \n",
    "    #plot graph with blue line and circle markers for Subscriber\n",
    "    plt.plot(range(24), subscriber_data, color = 'b', marker = 'o')\n",
    "    \n",
    "    # set other properties of plot and show\n",
    "    plt.title('Distribution of Trip Durations for ' + city)\n",
    "    plt.xlabel('Time(Hours)')\n",
    "    plt.ylabel('Frequency')\n",
    "    plt.legend(handles=[blue_circle, red_diamond])\n",
    "    plt.show()\n",
    "\n",
    "for file_path in file_paths:\n",
    "    plot_time_of_day(file_path)"
   ]
  },
  {
   "cell_type": "markdown",
   "metadata": {},
   "source": [
    "<a id='conclusions'></a>\n",
    "## Conclusions\n",
    "\n",
    "**Question 7**: Putting the bike share data aside, think of a topic or field of interest where you would like to be able to apply the techniques of data science. What would you like to be able to learn from your chosen subject?\n",
    "\n",
    "**Answer**: I would choose Bitcoin which is based on Blockchain technology as my field of interest. I would like to use [Bitcoin Data](https://blockchain.info/charts/market-price) to apply data science techniques to learn about the time of year in which Bitcoin prices are affected and to predict the future prices of bitcoin to a certain extent."
   ]
  },
  {
   "cell_type": "markdown",
   "metadata": {},
   "source": [
    "## Convert Jupyter notebook to HTML"
   ]
  },
  {
   "cell_type": "code",
   "execution_count": 18,
   "metadata": {},
   "outputs": [
    {
     "data": {
      "text/plain": [
       "0"
      ]
     },
     "execution_count": 18,
     "metadata": {},
     "output_type": "execute_result"
    }
   ],
   "source": [
    "from subprocess import call\n",
    "call(['python', '-m', 'nbconvert', 'Bike_Share_Analysis.ipynb'])"
   ]
  },
  {
   "cell_type": "code",
   "execution_count": null,
   "metadata": {},
   "outputs": [],
   "source": []
  }
 ],
 "metadata": {
  "anaconda-cloud": {},
  "kernelspec": {
   "display_name": "Python [default]",
   "language": "python",
   "name": "python3"
  },
  "language_info": {
   "codemirror_mode": {
    "name": "ipython",
    "version": 3
   },
   "file_extension": ".py",
   "mimetype": "text/x-python",
   "name": "python",
   "nbconvert_exporter": "python",
   "pygments_lexer": "ipython3",
   "version": "3.6.5"
  }
 },
 "nbformat": 4,
 "nbformat_minor": 1
}
